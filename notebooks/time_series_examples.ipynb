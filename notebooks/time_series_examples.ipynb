{
 "cells": [
  {
   "cell_type": "code",
   "execution_count": null,
   "metadata": {},
   "outputs": [],
   "source": [
    "%pip install \"pymdma[time_series] @ https://github.com/fraunhoferportugal/pymdma.git\" --find-links \"https://download.pytorch.org/whl/cpu/torch_stable.html\""
   ]
  },
  {
   "cell_type": "markdown",
   "metadata": {},
   "source": [
    "# Load Data"
   ]
  },
  {
   "cell_type": "markdown",
   "metadata": {},
   "source": [
    "Load data that simulates both real and synthetic samples for metric computation.\n"
   ]
  },
  {
   "cell_type": "code",
   "execution_count": null,
   "metadata": {},
   "outputs": [],
   "source": [
    "import os\n",
    "from pathlib import Path\n",
    "\n",
    "import matplotlib.pyplot as plt\n",
    "import numpy as np\n",
    "\n",
    "from pymdma.time_series.input_layer import TimeSeriesInputLayer"
   ]
  },
  {
   "cell_type": "code",
   "execution_count": null,
   "metadata": {},
   "outputs": [],
   "source": [
    "parent_dir = os.path.dirname(os.getcwd())\n",
    "\n",
    "validation_domain = \"synthesis_val\"\n",
    "reference_type = \"dataset\"\n",
    "target_data_path = Path(parent_dir + \"/data/test/time_series/synthesis_val/dataset/\")\n",
    "reference_data_path = Path(parent_dir + \"/data/test/time_series/synthesis_val/reference/\")\n",
    "batch_size = 5\n",
    "\n",
    "ts_input_layer = TimeSeriesInputLayer(\n",
    "    validation_domain == validation_domain,\n",
    "    reference_type=reference_type,\n",
    "    target_data=target_data_path,\n",
    "    reference_data=reference_data_path,\n",
    "    batch_size=batch_size,\n",
    ")\n",
    "\n",
    "\n",
    "# Get raw data for input validation\n",
    "ref_data, target_data = ts_input_layer.get_full_samples()"
   ]
  },
  {
   "cell_type": "markdown",
   "metadata": {},
   "source": [
    " Explore data shapes and plot Lead I of a real ECG tracing."
   ]
  },
  {
   "cell_type": "code",
   "execution_count": null,
   "metadata": {},
   "outputs": [],
   "source": [
    "# Acess shape\n",
    "shape_ref = ref_data.shape\n",
    "shape_target = target_data.shape\n",
    "\n",
    "print(\n",
    "    f\"Reference/Real data Shape: {shape_ref} | {shape_ref[0]} ECG tracings, each {shape_ref[1]} samples long with {shape_ref[2]} channels\"\n",
    ")\n",
    "print(\n",
    "    f\"Target/Synthetic data Shape: {shape_target} | {shape_target[0]} tracings, each {shape_target[1]} samples long with {shape_target[2]} channels\"\n",
    ")\n",
    "\n",
    "# Plot Lead I of a Real ECG Signal\n",
    "plt.plot(ref_data[0, :, 0])"
   ]
  },
  {
   "cell_type": "code",
   "execution_count": null,
   "metadata": {},
   "outputs": [],
   "source": [
    "def plot_instances_score(signals: list[np.ndarray], metric: str, scores: list[float], n_cols: int = 5):\n",
    "    n_rows = len(signals) // n_cols\n",
    "    fig, axs = plt.subplots(n_rows, n_cols, figsize=(n_cols * 4, n_rows * 3))\n",
    "    for ax, signal, score in zip(axs.flat, signals, scores):\n",
    "        ax.plot(signal[:, 0])  # ploting only Lead I of the ECG signal\n",
    "        ax.set_title(f\"{metric}: {score:.2f}\")\n",
    "        ax.axis(\"off\")\n",
    "        ax.set_aspect(\"auto\")\n",
    "    # Add a title to the entire figure\n",
    "    fig.suptitle(\"ECG Signals with SNR Annotation (All Leads Considered, Lead I Shown)\", fontsize=16)\n",
    "    plt.show()"
   ]
  },
  {
   "cell_type": "markdown",
   "metadata": {},
   "source": [
    "# Input Validation\n",
    "\n",
    "\n",
    "In the time series modality, the `pymdma` package offers one type of input validation, **no-reference**, where the signal is validated independently, without requiring a reference signal.\n",
    "\n",
    "This section demonstrates how to use the input validation functions with the signal-to-noise ratio (`SNR`) as an example."
   ]
  },
  {
   "cell_type": "code",
   "execution_count": null,
   "metadata": {},
   "outputs": [],
   "source": [
    "from pymdma.time_series.measures.input_val.data.quality import SNR\n",
    "\n",
    "snr = SNR()\n",
    "snr_result = snr.compute(ref_data)  # compute the metric\n",
    "_dataset_level, instance_level = snr_result.value  # fetch the instance level results\n",
    "\n",
    "\n",
    "plot_instances_score(ref_data, \"SNR\", instance_level, n_cols=5)"
   ]
  },
  {
   "cell_type": "markdown",
   "metadata": {},
   "source": [
    "### Ploting the metric results\n",
    "\n",
    "We provide a simple method in the `MetricResult` class to easily plot the results of the metrics. The method `plot()` will plot the results of the metrics in the format specified by the `plot_params` attribute in the `MetricResult` class. The `plot_params` attribute is a dictionary that contains the parameters to be used in the plot. If this attribute is not set, the method will default to a bar plot.\n",
    "\n",
    "You can provide a title for the plot when calling this method, as well as an axis is which you wish to plot the results (helpfull when plotting multiple metrics in the same plot). In addition, you can provide a set of `plot_params` to be used directly by matplotlib's plotting functions.\n",
    "\n",
    "> **Note**: You also have access to the values of the metrics via the `values` attribute in the `MetricResult` class. You can use these values to plot the results using your own plotting functions.\n"
   ]
  },
  {
   "cell_type": "code",
   "execution_count": null,
   "metadata": {},
   "outputs": [],
   "source": [
    "snr_result.plot(\"Signal to Noise Ratio\")  # plot the results from the result object\n",
    "plt.show()"
   ]
  },
  {
   "cell_type": "markdown",
   "metadata": {},
   "source": [
    "# Synthetic Validation\n",
    "\n",
    "The automatic evaluation of synthetically generated signals is a common practice in the field of generative AI, and is crucial for the assessment of the quality of large synthetic datasets. This is usually done by comparing the synthetic signals to a set of reference signals by considering the similarity between the distributions of the two sets. In this section, we will demonstrate how to use the `pymdma` package to evaluate the quality of synthetic signals."
   ]
  },
  {
   "cell_type": "code",
   "execution_count": null,
   "metadata": {},
   "outputs": [],
   "source": [
    "# Get features for synthetic data quality metrics computation\n",
    "ref_features, target_features = ts_input_layer.get_embeddings(\"tsfel\")\n",
    "\n",
    "print(\"Reference features shape:\", ref_features.shape)\n",
    "print(\"Synthetic features shape:\", target_features.shape)"
   ]
  },
  {
   "cell_type": "markdown",
   "metadata": {},
   "source": [
    "#### Feature Space Visualization: UMAP Analysis of Real vs Synthetic Data"
   ]
  },
  {
   "cell_type": "code",
   "execution_count": null,
   "metadata": {},
   "outputs": [],
   "source": [
    "from umap import UMAP\n",
    "\n",
    "umap = UMAP(n_neighbors=3, n_components=2, random_state=10, n_jobs=1)\n",
    "real_feats_2d = umap.fit_transform(ref_features)\n",
    "fake_feats_2d = umap.transform(target_features)\n",
    "\n",
    "plt.figure(figsize=(5, 5))\n",
    "plt.scatter(real_feats_2d[:, 0], real_feats_2d[:, 1], s=20, label=\"Real Samples\")\n",
    "plt.scatter(fake_feats_2d[:, 0], fake_feats_2d[:, 1], s=20, label=\"Fake Samples\")\n",
    "plt.title(\"UMAP Features Visualization | Real vs Synthetic\")\n",
    "plt.legend()\n",
    "plt.show()"
   ]
  },
  {
   "cell_type": "markdown",
   "metadata": {},
   "source": [
    "#### Compute Improved Precision and Improved Recall (Dataset-level and Instance-level)"
   ]
  },
  {
   "cell_type": "code",
   "execution_count": null,
   "metadata": {},
   "outputs": [],
   "source": [
    "from pymdma.time_series.measures.synthesis_val import ImprovedPrecision, ImprovedRecall\n",
    "\n",
    "ip = ImprovedPrecision(k=2)\n",
    "ir = ImprovedRecall(k=2)\n",
    "\n",
    "ip_result = ip.compute(ref_features, target_features)\n",
    "ir_result = ir.compute(ref_features, target_features)\n",
    "\n",
    "precision_dataset, precision_instance = ip_result.value\n",
    "recall_dataset, recall_instance = ir_result.value\n",
    "\n",
    "print(f\"Dataset-level Precision: {precision_dataset:.2f} | Dataset-level Recall: {recall_dataset:.2f}\")\n",
    "print(f\"Instance-level Precision: {precision_instance[:20]} | Instance-level Recall: {recall_instance[:20]}\")"
   ]
  },
  {
   "cell_type": "markdown",
   "metadata": {},
   "source": [
    "#### Plot Precise and Imprecise samples according to Improved Precision"
   ]
  },
  {
   "cell_type": "code",
   "execution_count": null,
   "metadata": {},
   "outputs": [],
   "source": [
    "def plot_instances_grid(signals: list[np.ndarray], n_cols: int = 25):\n",
    "    n_rows = len(signals) // n_cols\n",
    "    fig, axs = plt.subplots(n_rows, n_cols, figsize=(n_cols * 3, n_rows * 3))\n",
    "    fig.subplots_adjust(hspace=0, wspace=0)\n",
    "    for ax, signal in zip(axs.flat, signals):\n",
    "        ax.plot(signal[:, 0])  # ploting only Lead I\n",
    "        ax.get_xaxis().set_ticks([])\n",
    "        ax.get_yaxis().set_ticks([])\n",
    "        ax.axis(\"off\")\n",
    "        ax.set_aspect(\"auto\")\n",
    "    return fig"
   ]
  },
  {
   "cell_type": "code",
   "execution_count": null,
   "metadata": {},
   "outputs": [],
   "source": [
    "precision_instance = np.array(precision_instance)\n",
    "imprecise_idx = np.argwhere(precision_instance < 1).flatten()\n",
    "precise_idx = np.argwhere(precision_instance >= 1).flatten()\n",
    "\n",
    "precise_samples = [target_data[i] for i in precise_idx]\n",
    "imprecise_samples = [target_data[i] for i in imprecise_idx]\n",
    "\n",
    "precise_fig = plot_instances_grid(precise_samples, n_cols=5)\n",
    "precise_fig.suptitle(\"Lead I of Precise Signals (All Leads Considered)\", fontsize=15)\n",
    "plt.show()\n",
    "\n",
    "imprecise_fig = plot_instances_grid(imprecise_samples, n_cols=5)\n",
    "imprecise_fig.suptitle(\"Lead I of Imprecise Signals (All Leads Considered)\", fontsize=15)\n",
    "plt.show()"
   ]
  },
  {
   "cell_type": "markdown",
   "metadata": {},
   "source": [
    "### Synthetic Valitation using Distance Metrics\n",
    "\n",
    "In distance metrics such as Frechet Distance, Wasserstein Distance, and Maximum Mean Discrepancy (MMD), besides the metric value alone the `pymdma` package also computes two additional statistics: the dispersion ratio and the distance ratio.\n",
    "\n",
    "- **dispersion ratio**: computes the ratio of the distance between fake samples and the distance between real samples, providing insight into the variability of the generated data compared to the original data.\n",
    "- **distance ratio**: computes the ratio of the distance between real and fake samples and the distance of between real samples, indicating the dissimilarity between the two datasets in comparison to the internal variation within the real samples.\n",
    "\n",
    "An example of the Wasserstein distance value, along with the corresponding ratios, is provided above.\n"
   ]
  },
  {
   "cell_type": "code",
   "execution_count": null,
   "metadata": {},
   "outputs": [],
   "source": [
    "from pymdma.time_series.measures.synthesis_val import WassersteinDistance\n",
    "\n",
    "WD = WassersteinDistance()\n",
    "wd_result = WD.compute(ref_features, target_features)\n",
    "\n",
    "wd_dataset, _ = wd_result.value\n",
    "stats_dataset, _ = wd_result.stats\n",
    "\n",
    "\n",
    "dispersion_ratio = stats_dataset[\"dispersion_ratio\"]\n",
    "distance_ratio = stats_dataset[\"distance_ratio\"]\n",
    "print(\"Dataset-level information:\")\n",
    "print(f\"\\t{'Wasserstein Distance':<25}{wd_dataset:.2f}\")\n",
    "print(f\"\\t{'Distance Ratio':<25}{distance_ratio:.2f}\")\n",
    "print(f\"\\t{'Dispersion Ratio':<25}{dispersion_ratio:.2f}\")"
   ]
  },
  {
   "cell_type": "markdown",
   "metadata": {},
   "source": [
    "These values indicate that the distance between real and fake samples was 2.54 times greater than the distance between real samples, and that the variability among fake samples was 3.28 times higher than the variability between real samples. These ratios provide a more intuitive interpretation than the distance metric value alone, offering a clearer comparison of the variation between real and synthetic data."
   ]
  }
 ],
 "metadata": {
  "language_info": {
   "codemirror_mode": {
    "name": "ipython",
    "version": 3
   },
   "file_extension": ".py",
   "mimetype": "text/x-python",
   "name": "python",
   "nbconvert_exporter": "python",
   "pygments_lexer": "ipython3",
   "version": "3.9.20"
  }
 },
 "nbformat": 4,
 "nbformat_minor": 2
}
